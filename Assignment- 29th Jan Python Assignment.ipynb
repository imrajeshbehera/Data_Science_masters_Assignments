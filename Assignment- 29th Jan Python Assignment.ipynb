{
 "cells": [
  {
   "cell_type": "raw",
   "id": "eabc566d-dba9-40cc-a9b0-fdbf1492c5bd",
   "metadata": {},
   "source": [
    "1.\tWho developed the Python programming language?\n",
    "       \tPython was developed by Guido van Rossum and was first released in 1991."
   ]
  },
  {
   "cell_type": "raw",
   "id": "b90e9d24-b827-413b-8ca9-cac126790dc3",
   "metadata": {},
   "source": [
    "2.\tWhich type of programming does Python support?\n",
    "        Python supports multiple programming paradigms, including procedural, object-oriented, and functional programming.\n"
   ]
  },
  {
   "cell_type": "raw",
   "id": "1cc8fa6f-0add-4969-a250-3b6d0842996c",
   "metadata": {},
   "source": [
    "3.\tIs Python case sensitive when dealing with identifiers?\n",
    "        Yes, Python is case sensitive. For example, Variable and variable would be considered different identifiers."
   ]
  },
  {
   "cell_type": "raw",
   "id": "a491ed83-5538-4cfc-8d40-8bc1309d2f4c",
   "metadata": {},
   "source": [
    "4.\tWhat is the correct extension of a Python file?\n",
    "        The correct extension for a Python file is .py."
   ]
  },
  {
   "cell_type": "raw",
   "id": "69cf7d84-a554-44c4-b7f6-13c76de9b1e2",
   "metadata": {},
   "source": [
    "5.\tIs Python code compiled or interpreted?\n",
    "        Python is an interpreted language, which means the code is executed line by line."
   ]
  },
  {
   "cell_type": "raw",
   "id": "42dde5eb-257b-4df7-9f69-d37e5e29fb12",
   "metadata": {},
   "source": [
    "6.\tName a few blocks of code used to define a function in Python.\n",
    "        In Python, functions are defined using the def keyword followed by the function name and parentheses. For example:\n",
    "        \n",
    "        def my_function():\n",
    "            # function body\n"
   ]
  },
  {
   "cell_type": "raw",
   "id": "36e5a299-a7a2-4da2-a52b-8709eb9bee85",
   "metadata": {},
   "source": [
    "7.\tState a character used to give single-line comments in Python.\n",
    "        The character used for single-line comments in Python is the hash symbol (#)."
   ]
  },
  {
   "cell_type": "raw",
   "id": "a8821dee-dda2-4236-a485-6d74589b6967",
   "metadata": {},
   "source": [
    "8.\tMention functions that can help us find the version of Python we are currently working on.\n",
    "        You can use the sys.version or platform.python_version() functions to find the Python version. For example:\n",
    "        import sys\n",
    "        print(sys.version)\n",
    "        import platform\n",
    "        print(platform.python_version())"
   ]
  },
  {
   "cell_type": "raw",
   "id": "7c9f5f11-a071-4fdd-b915-19ba952214b2",
   "metadata": {},
   "source": [
    "9.\tPython supports the creation of anonymous functions at runtime using a construct called _______.\n",
    "        Python supports the creation of anonymous functions at runtime using a construct called lambda.\n"
   ]
  },
  {
   "cell_type": "raw",
   "id": "932dd69d-1bfe-417c-8611-5d84e9035cc4",
   "metadata": {},
   "source": [
    "10.\tWhat does pip stand for in Python?\n",
    "        pip stands for “Pip Installs Packages”. It is a package management system used to install and manage software packages written in Python."
   ]
  },
  {
   "cell_type": "raw",
   "id": "501f0ddf-5372-41d2-b8b3-58e65778f85a",
   "metadata": {},
   "source": [
    "11.\tMention a few built-in functions in Python.\n",
    "    Some built-in functions in Python include print(), len(), type(), int(), str(), sum(), and max().\n"
   ]
  },
  {
   "cell_type": "raw",
   "id": "ec18973b-db1e-4065-ba19-d40fe1ecb1a1",
   "metadata": {},
   "source": [
    "12.\tWhat is the maximum possible length of an identifier in Python?\n",
    "    \n",
    "        The maximum possible length of an identifier in Python is unlimited. However, it is recommended to keep identifiers reasonably short for readability."
   ]
  },
  {
   "cell_type": "raw",
   "id": "cc1d673c-99e9-477c-b3db-fe341b2be9bb",
   "metadata": {},
   "source": [
    "13.\tWhat are the benefits of using Python?\n",
    "    \n",
    "Benefits of using Python include:\n",
    "    Easy to learn and use: Python has a simple syntax that is easy to read and write.\n",
    "\tVersatile: It can be used for web development, data analysis, artificial intelligence, scientific computing, and more.\n",
    "    Large standard library: Python has a vast standard library that supports many common programming tasks.\n",
    "    Community support: Python has a large and active community that contributes to a wealth of resources and libraries."
   ]
  },
  {
   "cell_type": "raw",
   "id": "45d16108-2e66-47f2-886e-ae798e9791fb",
   "metadata": {},
   "source": [
    "14.\tHow is memory managed in Python?\n",
    "    Memory in Python is managed by the Python memory manager. It handles the allocation and deallocation of memory automatically. Python also uses garbage collection to reclaim memory from objects that are no longer in use."
   ]
  },
  {
   "cell_type": "raw",
   "id": "6a8d22cd-5bbe-48e3-96bb-71dee2688b44",
   "metadata": {},
   "source": [
    "15.\tHow to install Python on Windows and set path variables?\n",
    "To install Python on Windows:\n",
    "1.\tDownload the Python installer from the official Python website.\n",
    "2.\tRun the installer and follow the instructions. Make sure to check the box that says “Add Python to PATH” during installation.\n",
    "3.\tAfter installation, you can verify the installation by opening a command prompt and typing python --version."
   ]
  },
  {
   "cell_type": "raw",
   "id": "45a7aadb-b4d7-40be-955e-5cc350504e3f",
   "metadata": {},
   "source": [
    "16.\tIs indentation required in Python?\n",
    "Yes, indentation is required in Python. It is used to define the scope of loops, functions, classes, and other code blocks. Proper indentation is crucial for the code to run correctly.\n"
   ]
  },
  {
   "cell_type": "code",
   "execution_count": null,
   "id": "09e174ca-f40f-4962-a06e-2051f1c74e2d",
   "metadata": {},
   "outputs": [],
   "source": []
  }
 ],
 "metadata": {
  "kernelspec": {
   "display_name": "Python 3 (ipykernel)",
   "language": "python",
   "name": "python3"
  },
  "language_info": {
   "codemirror_mode": {
    "name": "ipython",
    "version": 3
   },
   "file_extension": ".py",
   "mimetype": "text/x-python",
   "name": "python",
   "nbconvert_exporter": "python",
   "pygments_lexer": "ipython3",
   "version": "3.12.4"
  }
 },
 "nbformat": 4,
 "nbformat_minor": 5
}
